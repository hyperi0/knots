{
 "cells": [
  {
   "cell_type": "code",
   "execution_count": 2,
   "metadata": {},
   "outputs": [],
   "source": [
    "import numpy as np\n",
    "import pandas as pd"
   ]
  },
  {
   "cell_type": "code",
   "execution_count": 3,
   "metadata": {},
   "outputs": [],
   "source": [
    "knot_data = pd.read_csv('../data/knot_volume.csv')\n",
    "knot_data[\"Equivalent Braids\"] = knot_data[\"Equivalent Braids\"].apply(eval)\n",
    "\n",
    "knot_jones = pd.read_csv('../data/knot_jones.csv')\n",
    "knot_data[\"Jones\"] = knot_jones[\"Jones (vector)\"]"
   ]
  },
  {
   "cell_type": "code",
   "execution_count": 4,
   "metadata": {},
   "outputs": [],
   "source": [
    "knot_data.to_csv('../data/knot_data_full.csv')"
   ]
  },
  {
   "cell_type": "code",
   "execution_count": 7,
   "metadata": {},
   "outputs": [],
   "source": [
    "jones = knot_data[\"Jones\"]"
   ]
  },
  {
   "cell_type": "code",
   "execution_count": 8,
   "metadata": {},
   "outputs": [],
   "source": [
    "jones = [[int(c) for c in j[1:-1].split(\"; \")] for j in jones]"
   ]
  },
  {
   "cell_type": "code",
   "execution_count": 27,
   "metadata": {},
   "outputs": [],
   "source": [
    "# i did this programatically but then i deleted it Q_Q\n",
    "\n",
    "max_coeff = 16\n",
    "min_coeff = -13\n",
    "n = 30"
   ]
  },
  {
   "cell_type": "code",
   "execution_count": 28,
   "metadata": {},
   "outputs": [],
   "source": [
    "def get_jones_vector(j):\n",
    "    l = []\n",
    "    first = j[0]\n",
    "    last = j[1]\n",
    "\n",
    "    for i in range(first - min_coeff):\n",
    "        l.append(0)\n",
    "\n",
    "    for c in j[2:]:\n",
    "        l.append(c)\n",
    "\n",
    "    for i in range(max_coeff - last):\n",
    "        l.append(0)\n",
    "\n",
    "    return l"
   ]
  },
  {
   "cell_type": "code",
   "execution_count": 30,
   "metadata": {},
   "outputs": [],
   "source": [
    "knot_data[\"Jones\"] = [get_jones_vector(j) for j in jones]"
   ]
  },
  {
   "cell_type": "code",
   "execution_count": 34,
   "metadata": {},
   "outputs": [],
   "source": [
    "knot_data.to_csv(\"../data/knot_data_jones.csv\")"
   ]
  }
 ],
 "metadata": {
  "kernelspec": {
   "display_name": "keras",
   "language": "python",
   "name": "python3"
  },
  "language_info": {
   "codemirror_mode": {
    "name": "ipython",
    "version": 3
   },
   "file_extension": ".py",
   "mimetype": "text/x-python",
   "name": "python",
   "nbconvert_exporter": "python",
   "pygments_lexer": "ipython3",
   "version": "3.10.8"
  },
  "orig_nbformat": 4
 },
 "nbformat": 4,
 "nbformat_minor": 2
}
