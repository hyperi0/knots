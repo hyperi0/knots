{
 "cells": [
  {
   "cell_type": "code",
   "execution_count": 1,
   "metadata": {},
   "outputs": [],
   "source": [
    "import pandas as pd\n",
    "import numpy as np\n",
    "\n",
    "import tensorflow as tf\n",
    "from tensorflow import keras\n",
    "from keras import layers"
   ]
  },
  {
   "cell_type": "code",
   "execution_count": 2,
   "metadata": {},
   "outputs": [],
   "source": [
    "maxStrands = 6\n",
    "maxCrossings = 19"
   ]
  },
  {
   "cell_type": "code",
   "execution_count": 3,
   "metadata": {},
   "outputs": [],
   "source": [
    "knot_data = pd.read_csv('~/Desktop/Math 498/data/knot_volume.csv')"
   ]
  },
  {
   "cell_type": "code",
   "execution_count": 4,
   "metadata": {},
   "outputs": [],
   "source": [
    "# one hot encoding\n",
    "# note: better to use built in preprocessing from Keras if possible\n",
    "#       one-hot encoding is built in but not sure how to do it on a list\n",
    "#       possibility: multiply each crossing by slot^crossing to get an integer, then one-hot\n",
    "def one_hot(braid, maxStrands, maxCrossings):\n",
    "\n",
    "    newBraid = []\n",
    "    for b in braid:\n",
    "        if b < 0:\n",
    "            newBraid.append(b + maxStrands)\n",
    "        else:\n",
    "            newBraid.append(b + maxStrands - 1)\n",
    "\n",
    "    nGenerators = maxStrands * 2\n",
    "\n",
    "    enc = []\n",
    "\n",
    "    for crossing in newBraid:\n",
    "        seq = np.zeros(nGenerators)\n",
    "        seq[crossing] = 1\n",
    "\n",
    "        enc = np.append(enc, seq)\n",
    "\n",
    "    enc = np.append(enc, np.zeros(nGenerators * maxCrossings - len(enc)))\n",
    "\n",
    "    return enc"
   ]
  },
  {
   "cell_type": "code",
   "execution_count": 5,
   "metadata": {},
   "outputs": [],
   "source": [
    "# split braids into training and test data\n",
    "# keep all equivalent braids in same set\n",
    "train_split = .7\n",
    "\n",
    "train_data = knot_data.sample(frac=train_split)\n",
    "test_data = knot_data.drop(train_data.index)\n",
    "\n",
    "x_train = []\n",
    "y_train = []\n",
    "\n",
    "train_braids = train_data[\"Equivalent Braids\"].apply(eval)\n",
    "train_volumes = train_data[\"Volume\"]\n",
    "\n",
    "for equivalentBraids, volume in zip(train_braids, train_volumes):\n",
    "    for braid in equivalentBraids:\n",
    "        x_train.append(one_hot(braid, maxStrands, maxCrossings))\n",
    "        y_train.append(volume)\n",
    "\n",
    "x_train = np.asarray(x_train)\n",
    "y_train = np.asarray(y_train)\n"
   ]
  },
  {
   "cell_type": "code",
   "execution_count": 6,
   "metadata": {},
   "outputs": [],
   "source": [
    "# parse testing data\n",
    "\n",
    "x_test = []\n",
    "y_test = []\n",
    "\n",
    "test_braids = test_data[\"Equivalent Braids\"].apply(eval)\n",
    "test_volumes = test_data[\"Volume\"]\n",
    "\n",
    "for equivalentBraids, volume in zip(test_braids, test_volumes):\n",
    "    for braid in equivalentBraids:\n",
    "        x_test.append(one_hot(braid, maxStrands, maxCrossings))\n",
    "        y_test.append(volume)\n",
    "\n",
    "x_test = np.asarray(x_test)\n",
    "y_test = np.asarray(y_test)\n"
   ]
  },
  {
   "cell_type": "code",
   "execution_count": 7,
   "metadata": {},
   "outputs": [],
   "source": [
    "# network parameters\n",
    "input_size = (maxStrands * 2) * maxCrossings\n",
    "hidden_layer_sizes = [100, 100]"
   ]
  },
  {
   "cell_type": "code",
   "execution_count": 8,
   "metadata": {},
   "outputs": [],
   "source": [
    "# build basic sequential model\n",
    "model = keras.Sequential()\n",
    "\n",
    "model.add(keras.Input(input_size,))\n",
    "\n",
    "for size in hidden_layer_sizes:\n",
    "    model.add(layers.Dense(size, activation=\"relu\"))\n",
    "\n",
    "model.add(layers.Dense(1))\n",
    "\n",
    "model.compile(loss=\"mean_squared_error\", optimizer=\"adam\", metrics=[\"mean_squared_error\"])"
   ]
  },
  {
   "cell_type": "code",
   "execution_count": 9,
   "metadata": {},
   "outputs": [
    {
     "name": "stdout",
     "output_type": "stream",
     "text": [
      "Epoch 1/10\n"
     ]
    },
    {
     "name": "stderr",
     "output_type": "stream",
     "text": [
      "2023-04-13 15:40:52.897392: W tensorflow/core/platform/profile_utils/cpu_utils.cc:128] Failed to get CPU frequency: 0 Hz\n"
     ]
    },
    {
     "name": "stdout",
     "output_type": "stream",
     "text": [
      "1041/1041 [==============================] - 1s 690us/step - loss: 14.9082 - mean_squared_error: 14.9082\n",
      "Epoch 2/10\n",
      "1041/1041 [==============================] - 1s 590us/step - loss: 8.9233 - mean_squared_error: 8.9233\n",
      "Epoch 3/10\n",
      "1041/1041 [==============================] - 1s 586us/step - loss: 7.7919 - mean_squared_error: 7.7919\n",
      "Epoch 4/10\n",
      "1041/1041 [==============================] - 1s 582us/step - loss: 7.1612 - mean_squared_error: 7.1612\n",
      "Epoch 5/10\n",
      "1041/1041 [==============================] - 1s 582us/step - loss: 6.7823 - mean_squared_error: 6.7823\n",
      "Epoch 6/10\n",
      "1041/1041 [==============================] - 1s 697us/step - loss: 6.4838 - mean_squared_error: 6.4838\n",
      "Epoch 7/10\n",
      "1041/1041 [==============================] - 1s 663us/step - loss: 6.2034 - mean_squared_error: 6.2034\n",
      "Epoch 8/10\n",
      "1041/1041 [==============================] - 1s 593us/step - loss: 5.9682 - mean_squared_error: 5.9682\n",
      "Epoch 9/10\n",
      "1041/1041 [==============================] - 1s 666us/step - loss: 5.7150 - mean_squared_error: 5.7150\n",
      "Epoch 10/10\n",
      "1041/1041 [==============================] - 1s 625us/step - loss: 5.5012 - mean_squared_error: 5.5012\n"
     ]
    }
   ],
   "source": [
    "history = model.fit(\n",
    "    x_train,\n",
    "    y_train,\n",
    "    batch_size=64,\n",
    "    epochs=10\n",
    ")"
   ]
  },
  {
   "cell_type": "code",
   "execution_count": 10,
   "metadata": {},
   "outputs": [
    {
     "name": "stdout",
     "output_type": "stream",
     "text": [
      "223/223 [==============================] - 0s 456us/step - loss: 8.1369 - mean_squared_error: 8.1369\n"
     ]
    }
   ],
   "source": [
    "results = model.evaluate(x_test, y_test, batch_size=128)"
   ]
  },
  {
   "cell_type": "code",
   "execution_count": 11,
   "metadata": {},
   "outputs": [
    {
     "data": {
      "text/plain": [
       "(228,)"
      ]
     },
     "execution_count": 11,
     "metadata": {},
     "output_type": "execute_result"
    }
   ],
   "source": [
    "x_test[0].shape"
   ]
  },
  {
   "cell_type": "code",
   "execution_count": 12,
   "metadata": {},
   "outputs": [
    {
     "data": {
      "text/plain": [
       "0.0"
      ]
     },
     "execution_count": 12,
     "metadata": {},
     "output_type": "execute_result"
    }
   ],
   "source": [
    "y_test[0]"
   ]
  },
  {
   "cell_type": "code",
   "execution_count": 31,
   "metadata": {},
   "outputs": [
    {
     "name": "stdout",
     "output_type": "stream",
     "text": [
      "WARNING:tensorflow:Model was constructed with shape (None, 228) for input KerasTensor(type_spec=TensorSpec(shape=(None, 228), dtype=tf.float32, name='input_4'), name='input_4', description=\"created by layer 'input_4'\"), but it was called on an input with incompatible shape (None,).\n"
     ]
    },
    {
     "ename": "ValueError",
     "evalue": "in user code:\n\n    File \"/opt/homebrew/Caskroom/miniforge/base/envs/keras/lib/python3.10/site-packages/keras/engine/training.py\", line 2041, in predict_function  *\n        return step_function(self, iterator)\n    File \"/opt/homebrew/Caskroom/miniforge/base/envs/keras/lib/python3.10/site-packages/keras/engine/training.py\", line 2027, in step_function  **\n        outputs = model.distribute_strategy.run(run_step, args=(data,))\n    File \"/opt/homebrew/Caskroom/miniforge/base/envs/keras/lib/python3.10/site-packages/keras/engine/training.py\", line 2015, in run_step  **\n        outputs = model.predict_step(data)\n    File \"/opt/homebrew/Caskroom/miniforge/base/envs/keras/lib/python3.10/site-packages/keras/engine/training.py\", line 1983, in predict_step\n        return self(x, training=False)\n    File \"/opt/homebrew/Caskroom/miniforge/base/envs/keras/lib/python3.10/site-packages/keras/utils/traceback_utils.py\", line 70, in error_handler\n        raise e.with_traceback(filtered_tb) from None\n    File \"/opt/homebrew/Caskroom/miniforge/base/envs/keras/lib/python3.10/site-packages/keras/engine/input_spec.py\", line 250, in assert_input_compatibility\n        raise ValueError(\n\n    ValueError: Exception encountered when calling layer \"sequential_3\" \"                 f\"(type Sequential).\n    \n    Input 0 of layer \"dense_9\" is incompatible with the layer: expected min_ndim=2, found ndim=1. Full shape received: (None,)\n    \n    Call arguments received by layer \"sequential_3\" \"                 f\"(type Sequential):\n      • inputs=tf.Tensor(shape=(None,), dtype=float32)\n      • training=False\n      • mask=None\n",
     "output_type": "error",
     "traceback": [
      "\u001b[0;31m---------------------------------------------------------------------------\u001b[0m",
      "\u001b[0;31mValueError\u001b[0m                                Traceback (most recent call last)",
      "Cell \u001b[0;32mIn[31], line 1\u001b[0m\n\u001b[0;32m----> 1\u001b[0m model\u001b[39m.\u001b[39;49mpredict(x_test[\u001b[39m0\u001b[39;49m])\n",
      "File \u001b[0;32m/opt/homebrew/Caskroom/miniforge/base/envs/keras/lib/python3.10/site-packages/keras/utils/traceback_utils.py:70\u001b[0m, in \u001b[0;36mfilter_traceback.<locals>.error_handler\u001b[0;34m(*args, **kwargs)\u001b[0m\n\u001b[1;32m     67\u001b[0m     filtered_tb \u001b[39m=\u001b[39m _process_traceback_frames(e\u001b[39m.\u001b[39m__traceback__)\n\u001b[1;32m     68\u001b[0m     \u001b[39m# To get the full stack trace, call:\u001b[39;00m\n\u001b[1;32m     69\u001b[0m     \u001b[39m# `tf.debugging.disable_traceback_filtering()`\u001b[39;00m\n\u001b[0;32m---> 70\u001b[0m     \u001b[39mraise\u001b[39;00m e\u001b[39m.\u001b[39mwith_traceback(filtered_tb) \u001b[39mfrom\u001b[39;00m \u001b[39mNone\u001b[39m\n\u001b[1;32m     71\u001b[0m \u001b[39mfinally\u001b[39;00m:\n\u001b[1;32m     72\u001b[0m     \u001b[39mdel\u001b[39;00m filtered_tb\n",
      "File \u001b[0;32m/var/folders/ky/f89knrjx5953hm2lrfqmdxr80000gn/T/__autograph_generated_filebfc31x5i.py:15\u001b[0m, in \u001b[0;36mouter_factory.<locals>.inner_factory.<locals>.tf__predict_function\u001b[0;34m(iterator)\u001b[0m\n\u001b[1;32m     13\u001b[0m \u001b[39mtry\u001b[39;00m:\n\u001b[1;32m     14\u001b[0m     do_return \u001b[39m=\u001b[39m \u001b[39mTrue\u001b[39;00m\n\u001b[0;32m---> 15\u001b[0m     retval_ \u001b[39m=\u001b[39m ag__\u001b[39m.\u001b[39mconverted_call(ag__\u001b[39m.\u001b[39mld(step_function), (ag__\u001b[39m.\u001b[39mld(\u001b[39mself\u001b[39m), ag__\u001b[39m.\u001b[39mld(iterator)), \u001b[39mNone\u001b[39;00m, fscope)\n\u001b[1;32m     16\u001b[0m \u001b[39mexcept\u001b[39;00m:\n\u001b[1;32m     17\u001b[0m     do_return \u001b[39m=\u001b[39m \u001b[39mFalse\u001b[39;00m\n",
      "\u001b[0;31mValueError\u001b[0m: in user code:\n\n    File \"/opt/homebrew/Caskroom/miniforge/base/envs/keras/lib/python3.10/site-packages/keras/engine/training.py\", line 2041, in predict_function  *\n        return step_function(self, iterator)\n    File \"/opt/homebrew/Caskroom/miniforge/base/envs/keras/lib/python3.10/site-packages/keras/engine/training.py\", line 2027, in step_function  **\n        outputs = model.distribute_strategy.run(run_step, args=(data,))\n    File \"/opt/homebrew/Caskroom/miniforge/base/envs/keras/lib/python3.10/site-packages/keras/engine/training.py\", line 2015, in run_step  **\n        outputs = model.predict_step(data)\n    File \"/opt/homebrew/Caskroom/miniforge/base/envs/keras/lib/python3.10/site-packages/keras/engine/training.py\", line 1983, in predict_step\n        return self(x, training=False)\n    File \"/opt/homebrew/Caskroom/miniforge/base/envs/keras/lib/python3.10/site-packages/keras/utils/traceback_utils.py\", line 70, in error_handler\n        raise e.with_traceback(filtered_tb) from None\n    File \"/opt/homebrew/Caskroom/miniforge/base/envs/keras/lib/python3.10/site-packages/keras/engine/input_spec.py\", line 250, in assert_input_compatibility\n        raise ValueError(\n\n    ValueError: Exception encountered when calling layer \"sequential_3\" \"                 f\"(type Sequential).\n    \n    Input 0 of layer \"dense_9\" is incompatible with the layer: expected min_ndim=2, found ndim=1. Full shape received: (None,)\n    \n    Call arguments received by layer \"sequential_3\" \"                 f\"(type Sequential):\n      • inputs=tf.Tensor(shape=(None,), dtype=float32)\n      • training=False\n      • mask=None\n"
     ]
    }
   ],
   "source": [
    "model.predict(x_test[0])"
   ]
  },
  {
   "cell_type": "code",
   "execution_count": null,
   "metadata": {},
   "outputs": [],
   "source": []
  }
 ],
 "metadata": {
  "kernelspec": {
   "display_name": "keras",
   "language": "python",
   "name": "python3"
  },
  "language_info": {
   "codemirror_mode": {
    "name": "ipython",
    "version": 3
   },
   "file_extension": ".py",
   "mimetype": "text/x-python",
   "name": "python",
   "nbconvert_exporter": "python",
   "pygments_lexer": "ipython3",
   "version": "3.10.8"
  },
  "orig_nbformat": 4,
  "vscode": {
   "interpreter": {
    "hash": "1c440bc12ae7b4c02b013e707ab2c471f2eefe1e8fcb648aca50990e658b180b"
   }
  }
 },
 "nbformat": 4,
 "nbformat_minor": 2
}
