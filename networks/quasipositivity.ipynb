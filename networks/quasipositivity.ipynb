{
 "cells": [
  {
   "cell_type": "code",
   "execution_count": 193,
   "metadata": {
    "collapsed": false
   },
   "outputs": [],
   "source": [
    "import pandas as pd\n",
    "import numpy as np\n",
    "\n",
    "import tensorflow as tf\n",
    "from tensorflow import keras\n",
    "from keras import layers"
   ]
  },
  {
   "cell_type": "code",
   "execution_count": 194,
   "metadata": {
    "collapsed": false
   },
   "outputs": [
    {
     "data": {
      "text/html": [
       "<div>\n",
       "<style scoped>\n",
       "    .dataframe tbody tr th:only-of-type {\n",
       "        vertical-align: middle;\n",
       "    }\n",
       "\n",
       "    .dataframe tbody tr th {\n",
       "        vertical-align: top;\n",
       "    }\n",
       "\n",
       "    .dataframe thead th {\n",
       "        text-align: right;\n",
       "    }\n",
       "</style>\n",
       "<table border=\"1\" class=\"dataframe\">\n",
       "  <thead>\n",
       "    <tr style=\"text-align: right;\">\n",
       "      <th></th>\n",
       "      <th>Name</th>\n",
       "      <th>Braid Notation</th>\n",
       "      <th>Positive</th>\n",
       "      <th>Q-Positive</th>\n",
       "      <th>Braid List</th>\n",
       "      <th>Equivalent Braids</th>\n",
       "    </tr>\n",
       "  </thead>\n",
       "  <tbody>\n",
       "    <tr>\n",
       "      <th>0</th>\n",
       "      <td>3_1</td>\n",
       "      <td>{1;1;1}</td>\n",
       "      <td>Y</td>\n",
       "      <td>Y</td>\n",
       "      <td>[1, 1, 1]</td>\n",
       "      <td>[[-1, 2, 2, 2, 1, -2], [1, 1, 1, 1, -1, 1, -1]...</td>\n",
       "    </tr>\n",
       "    <tr>\n",
       "      <th>1</th>\n",
       "      <td>4_1</td>\n",
       "      <td>{1;-2;1;-2}</td>\n",
       "      <td>N</td>\n",
       "      <td>N</td>\n",
       "      <td>[1, -2, 1, -2]</td>\n",
       "      <td>[[-1, -2, 1, -3, 4, -3, -2, 4], [-1, -2, 3, -2...</td>\n",
       "    </tr>\n",
       "    <tr>\n",
       "      <th>2</th>\n",
       "      <td>5_1</td>\n",
       "      <td>{1;1;1;1;1}</td>\n",
       "      <td>Y</td>\n",
       "      <td>Y</td>\n",
       "      <td>[1, 1, 1, 1, 1]</td>\n",
       "      <td>[[1, 2, 2, 2, 2, 2], [1, 2, 1, 1, 1, 1, 1, -1,...</td>\n",
       "    </tr>\n",
       "    <tr>\n",
       "      <th>3</th>\n",
       "      <td>5_2</td>\n",
       "      <td>{1;1;1;2;-1;2}</td>\n",
       "      <td>Y</td>\n",
       "      <td>Y</td>\n",
       "      <td>[1, 1, 1, 2, -1, 2]</td>\n",
       "      <td>[[1, 2, -1, 3, 1, 1, 2, -1, 2, 1, -3, 1, -2], ...</td>\n",
       "    </tr>\n",
       "    <tr>\n",
       "      <th>4</th>\n",
       "      <td>6_1</td>\n",
       "      <td>{1;1;2;-1;-3;2;-3}</td>\n",
       "      <td>N</td>\n",
       "      <td>N</td>\n",
       "      <td>[1, 1, 2, -1, -3, 2, -3]</td>\n",
       "      <td>[[1, 1, 2, -1, -3, 1, -1, 2, 1, -3, -1], [-1, ...</td>\n",
       "    </tr>\n",
       "  </tbody>\n",
       "</table>\n",
       "</div>"
      ],
      "text/plain": [
       "  Name      Braid Notation Positive Q-Positive                Braid List   \n",
       "0  3_1             {1;1;1}        Y          Y                 [1, 1, 1]  \\\n",
       "1  4_1         {1;-2;1;-2}        N          N            [1, -2, 1, -2]   \n",
       "2  5_1         {1;1;1;1;1}        Y          Y           [1, 1, 1, 1, 1]   \n",
       "3  5_2      {1;1;1;2;-1;2}        Y          Y       [1, 1, 1, 2, -1, 2]   \n",
       "4  6_1  {1;1;2;-1;-3;2;-3}        N          N  [1, 1, 2, -1, -3, 2, -3]   \n",
       "\n",
       "                                   Equivalent Braids  \n",
       "0  [[-1, 2, 2, 2, 1, -2], [1, 1, 1, 1, -1, 1, -1]...  \n",
       "1  [[-1, -2, 1, -3, 4, -3, -2, 4], [-1, -2, 3, -2...  \n",
       "2  [[1, 2, 2, 2, 2, 2], [1, 2, 1, 1, 1, 1, 1, -1,...  \n",
       "3  [[1, 2, -1, 3, 1, 1, 2, -1, 2, 1, -3, 1, -2], ...  \n",
       "4  [[1, 1, 2, -1, -3, 1, -1, 2, 1, -3, -1], [-1, ...  "
      ]
     },
     "execution_count": 194,
     "metadata": {},
     "output_type": "execute_result"
    }
   ],
   "source": [
    "# read pre-parsed knot data with braid words and equivalent braids\n",
    "knot_data = pd.read_csv('~/Desktop/Math 498/data/knot_data.csv')\n",
    "knot_data.head()"
   ]
  },
  {
   "cell_type": "code",
   "execution_count": 195,
   "metadata": {
    "collapsed": false
   },
   "outputs": [],
   "source": [
    "# one hot encoding\n",
    "# note: better to use built in preprocessing from Keras if possible\n",
    "#       one-hot encoding is built in but not sure how to do it on a list\n",
    "#       possibility: multiply each crossing by slot^crossing to get an integer, then one-hot\n",
    "def one_hot(braid, maxStrands, maxCrossings):\n",
    "\n",
    "    newBraid = []\n",
    "    for b in braid:\n",
    "        if b < 0:\n",
    "            newBraid.append(b + maxStrands)\n",
    "        else:\n",
    "            newBraid.append(b + maxStrands - 1)\n",
    "\n",
    "    nGenerators = maxStrands * 2\n",
    "\n",
    "    enc = []\n",
    "\n",
    "    for crossing in newBraid:\n",
    "        seq = np.zeros(nGenerators)\n",
    "        seq[crossing] = 1\n",
    "\n",
    "        enc = np.append(enc, seq)\n",
    "\n",
    "    enc = np.append(enc, np.zeros(nGenerators * maxCrossings - len(enc)))\n",
    "\n",
    "    return enc"
   ]
  },
  {
   "cell_type": "code",
   "execution_count": 196,
   "metadata": {},
   "outputs": [],
   "source": [
    "maxStrands = 6\n",
    "maxCrossings = 19"
   ]
  },
  {
   "cell_type": "code",
   "execution_count": 216,
   "metadata": {},
   "outputs": [],
   "source": [
    "# split braids into training and test data\n",
    "# keep all equivalent braids in same set\n",
    "train_split = .7\n",
    "\n",
    "train_data = knot_data.sample(frac=train_split)\n",
    "test_data = knot_data.drop(train_data.index)\n",
    "\n",
    "x_train = []\n",
    "y_train = []\n",
    "\n",
    "train_braids = train_data[\"Equivalent Braids\"].apply(eval)\n",
    "train_answers = train_data[\"Q-Positive\"].apply(lambda x: 1 if x == \"Y\" else 0)\n",
    "train_positive = train_data[\"Positive\"].apply(lambda x: 1 if x == \"Y\" else 0)\n",
    "\n",
    "for equivalentBraids, positive, answer in zip(train_braids, train_positive, train_answers):\n",
    "    for braid in equivalentBraids:\n",
    "        x_train.append(np.append(one_hot(braid, maxStrands, maxCrossings), positive))\n",
    "        y_train.append(answer)\n",
    "\n",
    "x_train = np.asarray(x_train)\n",
    "y_train = np.asarray(y_train)\n"
   ]
  },
  {
   "cell_type": "code",
   "execution_count": 220,
   "metadata": {},
   "outputs": [],
   "source": [
    "# parse testing data\n",
    "x_test = []\n",
    "y_test = []\n",
    "\n",
    "test_braids = test_data[\"Equivalent Braids\"].apply(eval)\n",
    "test_answers = test_data[\"Q-Positive\"].apply(lambda x: 1 if x == \"Y\" else 0)\n",
    "test_positive = test_data[\"Positive\"].apply(lambda x: 1 if x == \"Y\" else 0)\n",
    "\n",
    "for equivalentBraids, positive, answer in zip(test_braids, test_positive, test_answers):\n",
    "    for braid in equivalentBraids:\n",
    "        x_test.append(np.append(one_hot(braid, maxStrands, maxCrossings), positive))\n",
    "        y_test.append(answer)\n",
    "\n",
    "x_test = np.asarray(x_test)\n",
    "y_test = np.asarray(y_test)\n"
   ]
  },
  {
   "cell_type": "code",
   "execution_count": 224,
   "metadata": {},
   "outputs": [],
   "source": [
    "# network parameters\n",
    "input_size = (maxStrands * 2) * maxCrossings + 1\n",
    "hidden_layer_sizes = [100, 100]"
   ]
  },
  {
   "cell_type": "code",
   "execution_count": 225,
   "metadata": {},
   "outputs": [],
   "source": [
    "# build basic sequential model\n",
    "model = keras.Sequential()\n",
    "\n",
    "model.add(keras.Input(input_size,))\n",
    "\n",
    "for size in hidden_layer_sizes:\n",
    "    model.add(layers.Dense(size, activation=\"relu\"))\n",
    "\n",
    "model.add(layers.Dense(1, activation=\"sigmoid\"))\n",
    "\n",
    "model.compile(loss=\"binary_crossentropy\", optimizer=\"adam\", metrics=[\"accuracy\"])"
   ]
  },
  {
   "cell_type": "code",
   "execution_count": 226,
   "metadata": {},
   "outputs": [
    {
     "name": "stdout",
     "output_type": "stream",
     "text": [
      "Epoch 1/5\n",
      "348/348 [==============================] - 0s 512us/step - loss: 0.3359 - accuracy: 0.8732\n",
      "Epoch 2/5\n",
      "348/348 [==============================] - 0s 488us/step - loss: 0.1676 - accuracy: 0.9355\n",
      "Epoch 3/5\n",
      "348/348 [==============================] - 0s 485us/step - loss: 0.0927 - accuracy: 0.9655\n",
      "Epoch 4/5\n",
      "348/348 [==============================] - 0s 485us/step - loss: 0.0458 - accuracy: 0.9862\n",
      "Epoch 5/5\n",
      "348/348 [==============================] - 0s 487us/step - loss: 0.0212 - accuracy: 0.9946\n"
     ]
    }
   ],
   "source": [
    "history = model.fit(\n",
    "    x_train,\n",
    "    y_train,\n",
    "    batch_size=16,\n",
    "    epochs=5\n",
    ")"
   ]
  },
  {
   "cell_type": "code",
   "execution_count": 227,
   "metadata": {},
   "outputs": [
    {
     "name": "stdout",
     "output_type": "stream",
     "text": [
      "19/19 [==============================] - 0s 475us/step - loss: 0.1066 - accuracy: 0.9613\n"
     ]
    }
   ],
   "source": [
    "results = model.evaluate(x_test, y_test, batch_size=128)"
   ]
  }
 ],
 "metadata": {
  "kernelspec": {
   "display_name": "keras",
   "language": "python",
   "name": "python3"
  },
  "language_info": {
   "codemirror_mode": {
    "name": "ipython",
    "version": 3
   },
   "file_extension": ".py",
   "mimetype": "text/x-python",
   "name": "python",
   "nbconvert_exporter": "python",
   "pygments_lexer": "ipython3",
   "version": "3.10.8"
  },
  "vscode": {
   "interpreter": {
    "hash": "1c440bc12ae7b4c02b013e707ab2c471f2eefe1e8fcb648aca50990e658b180b"
   }
  }
 },
 "nbformat": 4,
 "nbformat_minor": 4
}
