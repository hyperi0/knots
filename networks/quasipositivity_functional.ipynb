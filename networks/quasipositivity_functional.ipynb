{
 "cells": [
  {
   "cell_type": "code",
   "execution_count": 95,
   "metadata": {},
   "outputs": [],
   "source": [
    "import pandas as pd\n",
    "import numpy as np\n",
    "\n",
    "import tensorflow as tf\n",
    "from tensorflow import keras\n",
    "from keras import layers"
   ]
  },
  {
   "cell_type": "code",
   "execution_count": 96,
   "metadata": {},
   "outputs": [],
   "source": [
    "# turn list of lists of equivalent braids with corresponding answers into trainable data\n",
    "\n",
    "def parse_equivalent_braids(allBraids, answers, maxCrossings):\n",
    "\n",
    "    x_data = []\n",
    "    y_data = []\n",
    "\n",
    "    for equivalentBraids, answer in zip(allBraids, answers):\n",
    "        for braid in tf.keras.preprocessing.sequence.pad_sequences(\n",
    "            equivalentBraids, padding=\"post\", maxlen=maxCrossings):\n",
    "            x_data.append(braid)\n",
    "            y_data.append(1 if answer==\"Y\" else 0)\n",
    "        \n",
    "    return np.asarray(x_data), np.asarray(y_data)"
   ]
  },
  {
   "cell_type": "code",
   "execution_count": 97,
   "metadata": {},
   "outputs": [],
   "source": [
    "# read pre-parsed knot data with braid words and equivalent braids\n",
    "\n",
    "knot_data = pd.read_csv('../data/knot_data.csv')\n",
    "knot_data[\"Equivalent Braids\"] = knot_data[\"Equivalent Braids\"].apply(eval)"
   ]
  },
  {
   "cell_type": "code",
   "execution_count": 98,
   "metadata": {},
   "outputs": [],
   "source": [
    "maxCrossings = 14\n",
    "maxStrands = 6"
   ]
  },
  {
   "cell_type": "code",
   "execution_count": 99,
   "metadata": {},
   "outputs": [],
   "source": [
    "# split dataset for training\n",
    "\n",
    "train_split = .8\n",
    "\n",
    "train_data = knot_data.sample(frac=train_split)\n",
    "test_data = knot_data.drop(train_data.index)\n",
    "\n",
    "x_train, y_train = parse_equivalent_braids(train_data[\"Equivalent Braids\"],\n",
    "                    train_data[\"Q-Positive\"], maxCrossings)\n",
    "\n",
    "x_train = tf.keras.utils.to_categorical(x_train, num_classes=maxStrands*2+1)\n",
    "\n",
    "x_test, y_test = parse_equivalent_braids(test_data[\"Equivalent Braids\"],\n",
    "                    test_data[\"Q-Positive\"], maxCrossings)\n",
    "\n",
    "x_test = tf.keras.utils.to_categorical(x_test, num_classes=maxStrands*2+1)\n"
   ]
  },
  {
   "cell_type": "code",
   "execution_count": 100,
   "metadata": {},
   "outputs": [],
   "source": [
    "# build model from functional api\n",
    "\n",
    "inputs = keras.Input(shape=(maxCrossings, maxStrands*2+1))\n",
    "\n",
    "x = layers.Flatten()(inputs)\n",
    "x = layers.Dense(64, activation=\"relu\")(x)\n",
    "x = layers.Dense(64, activation=\"relu\")(x)\n",
    "\n",
    "outputs = layers.Dense(1, activation=\"sigmoid\")(x)"
   ]
  },
  {
   "cell_type": "code",
   "execution_count": 101,
   "metadata": {},
   "outputs": [],
   "source": [
    "model = keras.Model(inputs=inputs, outputs=outputs, \n",
    "    name=\"quasipositivity_functional\")\n",
    "\n",
    "model.compile(loss=\"binary_crossentropy\", optimizer=\"adam\", metrics=[\"accuracy\"])"
   ]
  },
  {
   "cell_type": "code",
   "execution_count": 102,
   "metadata": {},
   "outputs": [
    {
     "name": "stdout",
     "output_type": "stream",
     "text": [
      "Model: \"quasipositivity_functional\"\n",
      "_________________________________________________________________\n",
      " Layer (type)                Output Shape              Param #   \n",
      "=================================================================\n",
      " input_21 (InputLayer)       [(None, 14, 13)]          0         \n",
      "                                                                 \n",
      " flatten_6 (Flatten)         (None, 182)               0         \n",
      "                                                                 \n",
      " dense_18 (Dense)            (None, 64)                11712     \n",
      "                                                                 \n",
      " dense_19 (Dense)            (None, 64)                4160      \n",
      "                                                                 \n",
      " dense_20 (Dense)            (None, 1)                 65        \n",
      "                                                                 \n",
      "=================================================================\n",
      "Total params: 15,937\n",
      "Trainable params: 15,937\n",
      "Non-trainable params: 0\n",
      "_________________________________________________________________\n"
     ]
    }
   ],
   "source": [
    "model.summary()"
   ]
  },
  {
   "cell_type": "code",
   "execution_count": 103,
   "metadata": {},
   "outputs": [
    {
     "name": "stdout",
     "output_type": "stream",
     "text": [
      "Epoch 1/5\n",
      "398/398 [==============================] - 0s 461us/step - loss: 0.4613 - accuracy: 0.8034\n",
      "Epoch 2/5\n",
      "398/398 [==============================] - 0s 457us/step - loss: 0.2922 - accuracy: 0.8924\n",
      "Epoch 3/5\n",
      "398/398 [==============================] - 0s 459us/step - loss: 0.1907 - accuracy: 0.9262\n",
      "Epoch 4/5\n",
      "398/398 [==============================] - 0s 459us/step - loss: 0.1336 - accuracy: 0.9493\n",
      "Epoch 5/5\n",
      "398/398 [==============================] - 0s 457us/step - loss: 0.0963 - accuracy: 0.9656\n"
     ]
    }
   ],
   "source": [
    "history = model.fit(\n",
    "    x_train,\n",
    "    y_train,\n",
    "    batch_size=16,\n",
    "    epochs=5\n",
    ")"
   ]
  },
  {
   "cell_type": "code",
   "execution_count": 94,
   "metadata": {},
   "outputs": [
    {
     "name": "stdout",
     "output_type": "stream",
     "text": [
      "50/50 [==============================] - 0s 412us/step - loss: 0.2605 - accuracy: 0.9181\n"
     ]
    },
    {
     "data": {
      "text/plain": [
       "[0.2605123817920685, 0.9181249737739563]"
      ]
     },
     "execution_count": 94,
     "metadata": {},
     "output_type": "execute_result"
    }
   ],
   "source": [
    "model.evaluate(x_test, y_test)"
   ]
  }
 ],
 "metadata": {
  "kernelspec": {
   "display_name": "keras",
   "language": "python",
   "name": "python3"
  },
  "language_info": {
   "codemirror_mode": {
    "name": "ipython",
    "version": 3
   },
   "file_extension": ".py",
   "mimetype": "text/x-python",
   "name": "python",
   "nbconvert_exporter": "python",
   "pygments_lexer": "ipython3",
   "version": "3.10.8"
  },
  "orig_nbformat": 4,
  "vscode": {
   "interpreter": {
    "hash": "1c440bc12ae7b4c02b013e707ab2c471f2eefe1e8fcb648aca50990e658b180b"
   }
  }
 },
 "nbformat": 4,
 "nbformat_minor": 2
}
