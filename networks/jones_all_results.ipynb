{
 "cells": [
  {
   "cell_type": "code",
   "execution_count": 1,
   "metadata": {},
   "outputs": [],
   "source": [
    "import pandas as pd\n",
    "import numpy as np\n",
    "import statistics\n",
    "import time\n",
    "import matplotlib.pyplot as plt\n",
    "\n",
    "import tensorflow as tf\n",
    "from tensorflow import keras\n",
    "from keras import layers"
   ]
  },
  {
   "cell_type": "code",
   "execution_count": 2,
   "metadata": {},
   "outputs": [],
   "source": [
    "# one-hot encode braid word and pad to consistent length\n",
    "def encode_braid(braid, maxStrands, maxCrossings):\n",
    "\n",
    "    b = tf.keras.utils.to_categorical(braid, num_classes=maxStrands*2)\n",
    "\n",
    "    for i in range(maxCrossings - len(b)):\n",
    "            b = np.append(b, [np.zeros(maxStrands*2)], axis=0)\n",
    "\n",
    "    return b"
   ]
  },
  {
   "cell_type": "code",
   "execution_count": 3,
   "metadata": {},
   "outputs": [],
   "source": [
    "# turn list of lists of equivalent braids with corresponding answers into trainable data\n",
    "def parse_equivalent_braids(allBraids, answers, maxStrands, maxCrossings):\n",
    "\n",
    "    x_data = []\n",
    "    y_data = []\n",
    "\n",
    "    # zip list of equivalent braids with same label\n",
    "    for equivalentBraids, answer in zip(allBraids, answers):\n",
    "        for braid in equivalentBraids:\n",
    "            x_data.append(braid)\n",
    "            y_data.append(answer)\n",
    "\n",
    "    # encode each braid word\n",
    "    x_data = [encode_braid(x, maxStrands, maxCrossings) for x in x_data]\n",
    "\n",
    "    return np.asarray(x_data), np.asarray(y_data)"
   ]
  },
  {
   "cell_type": "code",
   "execution_count": 4,
   "metadata": {},
   "outputs": [],
   "source": [
    "# read pre-parsed knot data with braid words and equivalent braids\n",
    "\n",
    "knot_data = pd.read_csv('../data/knot_data_jones.csv')\n",
    "knot_data[\"Equivalent Braids\"] = knot_data[\"Equivalent Braids\"].apply(eval)\n",
    "knot_data[\"Jones\"] = knot_data[\"Jones\"].apply(eval)"
   ]
  },
  {
   "cell_type": "code",
   "execution_count": 5,
   "metadata": {},
   "outputs": [],
   "source": [
    "eq = knot_data[\"Equivalent Braids\"]\n",
    "\n",
    "maxCrossings = max([max([len(braid) for braid in braids]) for braids in eq])\n",
    "maxStrands = max([max([max([abs(b) for b in braid]) for braid in braids]) for braids in eq])\n",
    "\n",
    "minPower = -13\n",
    "maxPower = 16\n",
    "nCoefficients = maxPower - minPower + 1"
   ]
  },
  {
   "cell_type": "code",
   "execution_count": 6,
   "metadata": {},
   "outputs": [],
   "source": [
    "# normalize y values by dividing by avg stdev of coefficients\n",
    "avg_stdev = statistics.mean([statistics.stdev(coefficients) for coefficients in knot_data[\"Jones\"]])"
   ]
  },
  {
   "cell_type": "code",
   "execution_count": 7,
   "metadata": {},
   "outputs": [],
   "source": [
    "knot_data[\"Jones Normalized\"] = knot_data[\"Jones\"].apply(lambda l: [x / avg_stdev for x in l])"
   ]
  },
  {
   "cell_type": "code",
   "execution_count": 8,
   "metadata": {},
   "outputs": [],
   "source": [
    "# split dataset for training\n",
    "\n",
    "train_split = .8\n",
    "\n",
    "train_data = knot_data.sample(frac=train_split)\n",
    "test_data = knot_data.drop(train_data.index)\n",
    "\n",
    "x_train, y_train = parse_equivalent_braids(train_data[\"Equivalent Braids\"],\n",
    "                    train_data[\"Jones Normalized\"], maxStrands, maxCrossings)\n",
    "\n",
    "x_test, y_test = parse_equivalent_braids(test_data[\"Equivalent Braids\"],\n",
    "                    test_data[\"Jones Normalized\"], maxStrands, maxCrossings)"
   ]
  },
  {
   "cell_type": "code",
   "execution_count": 9,
   "metadata": {},
   "outputs": [],
   "source": [
    "# build model from functional api\n",
    "inputs = keras.Input(shape=(maxCrossings, maxStrands*2))\n",
    "\n",
    "# linear version\n",
    "x = layers.Flatten()(inputs)\n",
    "x = layers.Dense(64, activation=\"relu\")(x)\n",
    "x = layers.Dense(64, activation=\"relu\")(x)\n",
    "\n",
    "outputs = layers.Dense(nCoefficients)(x)"
   ]
  },
  {
   "cell_type": "code",
   "execution_count": 10,
   "metadata": {},
   "outputs": [
    {
     "name": "stdout",
     "output_type": "stream",
     "text": [
      "Model: \"jones_polynomial\"\n",
      "_________________________________________________________________\n",
      " Layer (type)                Output Shape              Param #   \n",
      "=================================================================\n",
      " input_1 (InputLayer)        [(None, 19, 12)]          0         \n",
      "                                                                 \n",
      " flatten (Flatten)           (None, 228)               0         \n",
      "                                                                 \n",
      " dense (Dense)               (None, 64)                14656     \n",
      "                                                                 \n",
      " dense_1 (Dense)             (None, 64)                4160      \n",
      "                                                                 \n",
      " dense_2 (Dense)             (None, 30)                1950      \n",
      "                                                                 \n",
      "=================================================================\n",
      "Total params: 20,766\n",
      "Trainable params: 20,766\n",
      "Non-trainable params: 0\n",
      "_________________________________________________________________\n"
     ]
    }
   ],
   "source": [
    "model = keras.Model(inputs=inputs, outputs=outputs, \n",
    "    name=\"jones_polynomial\")\n",
    "\n",
    "model.compile(loss=\"mean_squared_error\", optimizer=\"adam\")\n",
    "\n",
    "model.summary()"
   ]
  },
  {
   "cell_type": "code",
   "execution_count": 96,
   "metadata": {},
   "outputs": [],
   "source": [
    "earlyStop = tf.keras.callbacks.EarlyStopping(monitor='val_loss', patience=3, min_delta=.01)"
   ]
  },
  {
   "cell_type": "code",
   "execution_count": 97,
   "metadata": {},
   "outputs": [
    {
     "name": "stdout",
     "output_type": "stream",
     "text": [
      "Epoch 1/50\n",
      "2140/2140 [==============================] - 1s 587us/step - loss: 1.3021 - val_loss: 1.2566\n",
      "Epoch 2/50\n",
      "2140/2140 [==============================] - 1s 599us/step - loss: 1.1073 - val_loss: 1.0646\n",
      "Epoch 3/50\n",
      "2140/2140 [==============================] - 1s 547us/step - loss: 0.9088 - val_loss: 0.9758\n",
      "Epoch 4/50\n",
      "2140/2140 [==============================] - 1s 566us/step - loss: 0.8024 - val_loss: 0.9538\n",
      "Epoch 5/50\n",
      "2140/2140 [==============================] - 1s 547us/step - loss: 0.7398 - val_loss: 0.9056\n",
      "Epoch 6/50\n",
      "2140/2140 [==============================] - 1s 546us/step - loss: 0.6949 - val_loss: 0.8957\n",
      "Epoch 7/50\n",
      "2140/2140 [==============================] - 1s 540us/step - loss: 0.6592 - val_loss: 0.8841\n",
      "Epoch 8/50\n",
      "2140/2140 [==============================] - 1s 539us/step - loss: 0.6326 - val_loss: 0.8727\n",
      "Epoch 9/50\n",
      "2140/2140 [==============================] - 1s 538us/step - loss: 0.6065 - val_loss: 0.8531\n",
      "Epoch 10/50\n",
      "2140/2140 [==============================] - 1s 553us/step - loss: 0.5851 - val_loss: 0.8492\n",
      "Epoch 11/50\n",
      "2140/2140 [==============================] - 1s 550us/step - loss: 0.5678 - val_loss: 0.8490\n",
      "Epoch 12/50\n",
      "2140/2140 [==============================] - 1s 562us/step - loss: 0.5510 - val_loss: 0.8501\n",
      "594/594 [==============================] - 0s 323us/step - loss: 0.7766\n"
     ]
    }
   ],
   "source": [
    "start_time = time.time()\n",
    "\n",
    "history_linear = model.fit(\n",
    "    x_train,\n",
    "    y_train,\n",
    "    validation_split=.1,\n",
    "    batch_size=32,\n",
    "    epochs=50,\n",
    "    callbacks=[earlyStop],\n",
    "    verbose=1\n",
    ")\n",
    "\n",
    "linear_time = time.time() - start_time\n",
    "linear_eval = model.evaluate(x_test, y_test)"
   ]
  },
  {
   "cell_type": "code",
   "execution_count": 34,
   "metadata": {},
   "outputs": [],
   "source": [
    "# simple RNN\n",
    "\n",
    "inputs = keras.Input(shape=(maxCrossings, maxStrands*2))\n",
    "\n",
    "x = layers.Masking()(inputs)\n",
    "x = layers.SimpleRNN(128)(x)\n",
    "\n",
    "outputs = layers.Dense(nCoefficients)(x)\n",
    "\n",
    "model = keras.Model(inputs=inputs, outputs=outputs, \n",
    "    name=\"jones_polynomial\")\n",
    "\n",
    "model.compile(loss=\"mean_squared_error\", optimizer=\"adam\")\n"
   ]
  },
  {
   "cell_type": "code",
   "execution_count": 35,
   "metadata": {},
   "outputs": [
    {
     "name": "stdout",
     "output_type": "stream",
     "text": [
      "Epoch 1/50\n",
      "2139/2139 [==============================] - 9s 4ms/step - loss: 1.3365 - val_loss: 1.2417\n",
      "Epoch 2/50\n",
      "2139/2139 [==============================] - 9s 4ms/step - loss: 1.3314 - val_loss: 1.2432\n",
      "Epoch 3/50\n",
      "2139/2139 [==============================] - 9s 4ms/step - loss: 1.3277 - val_loss: 1.2323\n",
      "Epoch 4/50\n",
      "2139/2139 [==============================] - 9s 4ms/step - loss: 1.3263 - val_loss: 1.2337\n"
     ]
    }
   ],
   "source": [
    "start_time = time.time()\n",
    "\n",
    "history_simpleRNN = model.fit(\n",
    "    x_train,\n",
    "    y_train,\n",
    "    validation_split=.1,\n",
    "    batch_size=32,\n",
    "    epochs=50,\n",
    "    callbacks=[earlyStop],\n",
    "    verbose=1\n",
    ")\n",
    "\n",
    "simpleRNN_time = time.time() - start_time\n",
    "simpleRNN_eval = model.evaluate(x_test, y_test)"
   ]
  },
  {
   "cell_type": "code",
   "execution_count": 36,
   "metadata": {},
   "outputs": [],
   "source": [
    "# simple RNN\n",
    "\n",
    "inputs = keras.Input(shape=(maxCrossings, maxStrands*2))\n",
    "\n",
    "x = layers.Masking()(inputs)\n",
    "x = layers.LSTM(128)(x)\n",
    "\n",
    "outputs = layers.Dense(nCoefficients)(x)\n",
    "\n",
    "model = keras.Model(inputs=inputs, outputs=outputs, \n",
    "    name=\"jones_polynomial\")\n",
    "\n",
    "model.compile(loss=\"mean_squared_error\", optimizer=\"adam\")\n"
   ]
  },
  {
   "cell_type": "code",
   "execution_count": 37,
   "metadata": {},
   "outputs": [
    {
     "name": "stdout",
     "output_type": "stream",
     "text": [
      "Epoch 1/50\n",
      "2139/2139 [==============================] - 23s 10ms/step - loss: 1.2500 - val_loss: 1.0870\n",
      "Epoch 2/50\n",
      "2139/2139 [==============================] - 21s 10ms/step - loss: 1.0286 - val_loss: 0.8958\n",
      "Epoch 3/50\n",
      "2139/2139 [==============================] - 21s 10ms/step - loss: 0.8258 - val_loss: 0.7352\n",
      "Epoch 4/50\n",
      "2139/2139 [==============================] - 21s 10ms/step - loss: 0.7000 - val_loss: 0.6559\n",
      "Epoch 5/50\n",
      "2139/2139 [==============================] - 21s 10ms/step - loss: 0.6110 - val_loss: 0.6221\n",
      "Epoch 6/50\n",
      "2139/2139 [==============================] - 21s 10ms/step - loss: 0.5501 - val_loss: 0.5587\n",
      "Epoch 7/50\n",
      "2139/2139 [==============================] - 21s 10ms/step - loss: 0.4980 - val_loss: 0.5477\n",
      "Epoch 8/50\n",
      "2139/2139 [==============================] - 21s 10ms/step - loss: 0.4529 - val_loss: 0.5295\n",
      "Epoch 9/50\n",
      "2139/2139 [==============================] - 21s 10ms/step - loss: 0.4172 - val_loss: 0.5134\n",
      "Epoch 10/50\n",
      "2139/2139 [==============================] - 21s 10ms/step - loss: 0.3859 - val_loss: 0.4724\n",
      "Epoch 11/50\n",
      "2139/2139 [==============================] - 21s 10ms/step - loss: 0.3562 - val_loss: 0.4832\n",
      "Epoch 12/50\n",
      "2139/2139 [==============================] - 22s 10ms/step - loss: 0.3316 - val_loss: 0.4529\n",
      "Epoch 13/50\n",
      "2139/2139 [==============================] - 23s 11ms/step - loss: 0.3115 - val_loss: 0.4535\n",
      "Epoch 14/50\n",
      "2139/2139 [==============================] - 22s 10ms/step - loss: 0.2923 - val_loss: 0.4410\n",
      "Epoch 15/50\n",
      "2139/2139 [==============================] - 25s 11ms/step - loss: 0.2738 - val_loss: 0.4358\n",
      "Epoch 16/50\n",
      "2139/2139 [==============================] - 23s 11ms/step - loss: 0.2579 - val_loss: 0.4114\n",
      "Epoch 17/50\n",
      "2139/2139 [==============================] - 21s 10ms/step - loss: 0.2462 - val_loss: 0.4184\n",
      "Epoch 18/50\n",
      "2139/2139 [==============================] - 21s 10ms/step - loss: 0.2307 - val_loss: 0.4130\n",
      "Epoch 19/50\n",
      "2139/2139 [==============================] - 21s 10ms/step - loss: 0.2214 - val_loss: 0.4346\n"
     ]
    }
   ],
   "source": [
    "start_time = time.time()\n",
    "\n",
    "history_lstm = model.fit(\n",
    "    x_train,\n",
    "    y_train,\n",
    "    validation_split=.1,\n",
    "    batch_size=32,\n",
    "    epochs=50,\n",
    "    callbacks=[earlyStop],\n",
    "    verbose=1\n",
    ")\n",
    "\n",
    "lstm_time = time.time() - start_time"
   ]
  },
  {
   "cell_type": "code",
   "execution_count": 40,
   "metadata": {},
   "outputs": [
    {
     "name": "stdout",
     "output_type": "stream",
     "text": [
      "595/595 [==============================] - 2s 3ms/step - loss: 0.4806\n"
     ]
    }
   ],
   "source": [
    "lstm_eval = model.evaluate(x_test, y_test)"
   ]
  },
  {
   "cell_type": "code",
   "execution_count": 17,
   "metadata": {},
   "outputs": [],
   "source": [
    "# GRU\n",
    "\n",
    "inputs = keras.Input(shape=(maxCrossings, maxStrands*2))\n",
    "\n",
    "x = layers.Masking()(inputs)\n",
    "x = layers.GRU(128)(x)\n",
    "\n",
    "outputs = layers.Dense(nCoefficients)(x)\n",
    "\n",
    "model = keras.Model(inputs=inputs, outputs=outputs, \n",
    "    name=\"jones_polynomial\")\n",
    "\n",
    "model.compile(loss=\"mean_squared_error\", optimizer=\"adam\")\n"
   ]
  },
  {
   "cell_type": "code",
   "execution_count": 52,
   "metadata": {},
   "outputs": [
    {
     "name": "stdout",
     "output_type": "stream",
     "text": [
      "Epoch 1/50\n",
      "2140/2140 [==============================] - 21s 9ms/step - loss: 1.2770 - val_loss: 1.2625\n",
      "Epoch 2/50\n",
      "2140/2140 [==============================] - 18s 9ms/step - loss: 1.0848 - val_loss: 1.0086\n",
      "Epoch 3/50\n",
      "2140/2140 [==============================] - 19s 9ms/step - loss: 0.8829 - val_loss: 0.9168\n",
      "Epoch 4/50\n",
      "2140/2140 [==============================] - 19s 9ms/step - loss: 0.7635 - val_loss: 0.8797\n",
      "Epoch 5/50\n",
      "2140/2140 [==============================] - 19s 9ms/step - loss: 0.6807 - val_loss: 0.7882\n",
      "Epoch 6/50\n",
      "2140/2140 [==============================] - 19s 9ms/step - loss: 0.6169 - val_loss: 0.7772\n",
      "Epoch 7/50\n",
      "2140/2140 [==============================] - 19s 9ms/step - loss: 0.5618 - val_loss: 0.6894\n",
      "Epoch 8/50\n",
      "2140/2140 [==============================] - 20s 9ms/step - loss: 0.5189 - val_loss: 0.6620\n",
      "Epoch 9/50\n",
      "2140/2140 [==============================] - 20s 9ms/step - loss: 0.4826 - val_loss: 0.6249\n",
      "Epoch 10/50\n",
      "2140/2140 [==============================] - 20s 9ms/step - loss: 0.4495 - val_loss: 0.6300\n",
      "Epoch 11/50\n",
      "2140/2140 [==============================] - 19s 9ms/step - loss: 0.4216 - val_loss: 0.5664\n",
      "Epoch 12/50\n",
      "2140/2140 [==============================] - 19s 9ms/step - loss: 0.3937 - val_loss: 0.6070\n",
      "Epoch 13/50\n",
      "2140/2140 [==============================] - 19s 9ms/step - loss: 0.3724 - val_loss: 0.5649\n",
      "Epoch 14/50\n",
      "2140/2140 [==============================] - 19s 9ms/step - loss: 0.3512 - val_loss: 0.5760\n",
      "594/594 [==============================] - 2s 3ms/step - loss: 0.5084\n"
     ]
    }
   ],
   "source": [
    "start_time = time.time()\n",
    "\n",
    "history_gru = model.fit(\n",
    "    x_train,\n",
    "    y_train,\n",
    "    validation_split=.1,\n",
    "    batch_size=32,\n",
    "    epochs=50,\n",
    "    callbacks=[earlyStop],\n",
    "    verbose=1\n",
    ")\n",
    "\n",
    "gru_time = time.time() - start_time\n",
    "gru_eval = model.evaluate(x_test, y_test)"
   ]
  },
  {
   "cell_type": "code",
   "execution_count": 19,
   "metadata": {},
   "outputs": [
    {
     "name": "stdout",
     "output_type": "stream",
     "text": [
      "Model: \"jones_polynomial\"\n",
      "_________________________________________________________________\n",
      " Layer (type)                Output Shape              Param #   \n",
      "=================================================================\n",
      " input_3 (InputLayer)        [(None, 19, 12)]          0         \n",
      "                                                                 \n",
      " masking_1 (Masking)         (None, 19, 12)            0         \n",
      "                                                                 \n",
      " gru_1 (GRU)                 (None, 19, 128)           54528     \n",
      "                                                                 \n",
      " flatten_1 (Flatten)         (None, 2432)              0         \n",
      "                                                                 \n",
      " dense_4 (Dense)             (None, 128)               311424    \n",
      "                                                                 \n",
      " dense_5 (Dense)             (None, 30)                3870      \n",
      "                                                                 \n",
      "=================================================================\n",
      "Total params: 369,822\n",
      "Trainable params: 369,822\n",
      "Non-trainable params: 0\n",
      "_________________________________________________________________\n"
     ]
    }
   ],
   "source": [
    "# GRU + dense\n",
    "\n",
    "inputs = keras.Input(shape=(maxCrossings, maxStrands*2))\n",
    "\n",
    "x = layers.Masking()(inputs)\n",
    "x = layers.GRU(128, return_sequences=True)(x)\n",
    "x = layers.Flatten()(x)\n",
    "x = layers.Dense(128)(x)\n",
    "\n",
    "outputs = layers.Dense(nCoefficients)(x)\n",
    "\n",
    "model = keras.Model(inputs=inputs, outputs=outputs, \n",
    "    name=\"jones_polynomial\")\n",
    "\n",
    "model.compile(loss=\"mean_squared_error\", optimizer=\"adam\")\n",
    "\n",
    "model.summary()"
   ]
  },
  {
   "cell_type": "code",
   "execution_count": 59,
   "metadata": {},
   "outputs": [
    {
     "name": "stdout",
     "output_type": "stream",
     "text": [
      "Epoch 1/50\n",
      "2140/2140 [==============================] - 23s 10ms/step - loss: 1.3212 - val_loss: 1.2833\n",
      "Epoch 2/50\n",
      "2140/2140 [==============================] - 23s 11ms/step - loss: 1.2986 - val_loss: 1.2642\n",
      "Epoch 3/50\n",
      "2140/2140 [==============================] - 21s 10ms/step - loss: 1.1636 - val_loss: 1.1675\n",
      "Epoch 4/50\n",
      "2140/2140 [==============================] - 22s 10ms/step - loss: 0.9297 - val_loss: 0.9477\n",
      "Epoch 5/50\n",
      "2140/2140 [==============================] - 23s 11ms/step - loss: 0.7702 - val_loss: 0.8161\n",
      "Epoch 6/50\n",
      "2140/2140 [==============================] - 21s 10ms/step - loss: 0.6586 - val_loss: 0.7331\n",
      "Epoch 7/50\n",
      "2140/2140 [==============================] - 22s 10ms/step - loss: 0.5811 - val_loss: 0.7302\n",
      "Epoch 8/50\n",
      "2140/2140 [==============================] - 20s 10ms/step - loss: 0.5235 - val_loss: 0.6801\n",
      "Epoch 9/50\n",
      "2140/2140 [==============================] - 20s 10ms/step - loss: 0.4788 - val_loss: 0.6525\n",
      "Epoch 10/50\n",
      "2140/2140 [==============================] - 21s 10ms/step - loss: 0.4370 - val_loss: 0.6152\n",
      "Epoch 11/50\n",
      "2140/2140 [==============================] - 22s 10ms/step - loss: 0.4045 - val_loss: 0.5644\n",
      "Epoch 12/50\n",
      "2140/2140 [==============================] - 24s 11ms/step - loss: 0.3761 - val_loss: 0.5300\n",
      "Epoch 13/50\n",
      "2140/2140 [==============================] - 22s 10ms/step - loss: 0.3510 - val_loss: 0.5335\n",
      "Epoch 14/50\n",
      "2140/2140 [==============================] - 21s 10ms/step - loss: 0.3289 - val_loss: 0.5162\n",
      "Epoch 15/50\n",
      "2140/2140 [==============================] - 21s 10ms/step - loss: 0.3112 - val_loss: 0.5037\n",
      "Epoch 16/50\n",
      "2140/2140 [==============================] - 21s 10ms/step - loss: 0.2921 - val_loss: 0.5427\n",
      "Epoch 17/50\n",
      "2140/2140 [==============================] - 21s 10ms/step - loss: 0.2776 - val_loss: 0.4923\n",
      "Epoch 18/50\n",
      "2140/2140 [==============================] - 21s 10ms/step - loss: 0.2651 - val_loss: 0.4962\n",
      "Epoch 19/50\n",
      "2140/2140 [==============================] - 21s 10ms/step - loss: 0.2511 - val_loss: 0.4691\n",
      "Epoch 20/50\n",
      "2140/2140 [==============================] - 22s 10ms/step - loss: 0.2398 - val_loss: 0.4693\n",
      "Epoch 21/50\n",
      "2140/2140 [==============================] - 22s 10ms/step - loss: 0.2299 - val_loss: 0.4499\n",
      "Epoch 22/50\n",
      "2140/2140 [==============================] - 21s 10ms/step - loss: 0.2192 - val_loss: 0.4583\n",
      "Epoch 23/50\n",
      "2140/2140 [==============================] - 26s 12ms/step - loss: 0.2119 - val_loss: 0.4762\n",
      "Epoch 24/50\n",
      "2140/2140 [==============================] - 21s 10ms/step - loss: 0.2025 - val_loss: 0.5021\n",
      "594/594 [==============================] - 2s 3ms/step - loss: 0.4656\n"
     ]
    }
   ],
   "source": [
    "start_time = time.time()\n",
    "\n",
    "history_gru_dense = model.fit(\n",
    "    x_train,\n",
    "    y_train,\n",
    "    validation_split=.1,\n",
    "    batch_size=32,\n",
    "    epochs=50,\n",
    "    callbacks=[earlyStop],\n",
    "    verbose=1\n",
    ")\n",
    "\n",
    "gru_dense_time = time.time() - start_time\n",
    "gru_dense_eval = model.evaluate(x_test, y_test)"
   ]
  },
  {
   "cell_type": "code",
   "execution_count": 21,
   "metadata": {},
   "outputs": [
    {
     "name": "stdout",
     "output_type": "stream",
     "text": [
      "Model: \"jones_polynomial\"\n",
      "_________________________________________________________________\n",
      " Layer (type)                Output Shape              Param #   \n",
      "=================================================================\n",
      " input_4 (InputLayer)        [(None, 19, 12)]          0         \n",
      "                                                                 \n",
      " masking_2 (Masking)         (None, 19, 12)            0         \n",
      "                                                                 \n",
      " gru_2 (GRU)                 (None, 19, 128)           54528     \n",
      "                                                                 \n",
      " gru_3 (GRU)                 (None, 64)                37248     \n",
      "                                                                 \n",
      " dense_6 (Dense)             (None, 30)                1950      \n",
      "                                                                 \n",
      "=================================================================\n",
      "Total params: 93,726\n",
      "Trainable params: 93,726\n",
      "Non-trainable params: 0\n",
      "_________________________________________________________________\n"
     ]
    }
   ],
   "source": [
    "# GRU + GRU\n",
    "\n",
    "inputs = keras.Input(shape=(maxCrossings, maxStrands*2))\n",
    "\n",
    "x = layers.Masking()(inputs)\n",
    "x = layers.GRU(128, return_sequences=True)(x)\n",
    "x = layers.GRU(64)(x)\n",
    "\n",
    "outputs = layers.Dense(nCoefficients)(x)\n",
    "\n",
    "model = keras.Model(inputs=inputs, outputs=outputs, \n",
    "    name=\"jones_polynomial\")\n",
    "\n",
    "model.compile(loss=\"mean_squared_error\", optimizer=\"adam\")\n",
    "\n",
    "model.summary()"
   ]
  },
  {
   "cell_type": "code",
   "execution_count": 61,
   "metadata": {},
   "outputs": [
    {
     "name": "stdout",
     "output_type": "stream",
     "text": [
      "Epoch 1/50\n",
      "2140/2140 [==============================] - 43s 19ms/step - loss: 1.1864 - val_loss: 1.0629\n",
      "Epoch 2/50\n",
      "2140/2140 [==============================] - 39s 18ms/step - loss: 0.8489 - val_loss: 0.8192\n",
      "Epoch 3/50\n",
      "2140/2140 [==============================] - 39s 18ms/step - loss: 0.6776 - val_loss: 0.7519\n",
      "Epoch 4/50\n",
      "2140/2140 [==============================] - 36s 17ms/step - loss: 0.5637 - val_loss: 0.6459\n",
      "Epoch 5/50\n",
      "2140/2140 [==============================] - 38s 18ms/step - loss: 0.4802 - val_loss: 0.5476\n",
      "Epoch 6/50\n",
      "2140/2140 [==============================] - 39s 18ms/step - loss: 0.4064 - val_loss: 0.4945\n",
      "Epoch 7/50\n",
      "2140/2140 [==============================] - 40s 19ms/step - loss: 0.3590 - val_loss: 0.4846\n",
      "Epoch 8/50\n",
      "2140/2140 [==============================] - 37s 17ms/step - loss: 0.3184 - val_loss: 0.4432\n",
      "Epoch 9/50\n",
      "2140/2140 [==============================] - 38s 18ms/step - loss: 0.2828 - val_loss: 0.4148\n",
      "Epoch 10/50\n",
      "2140/2140 [==============================] - 38s 18ms/step - loss: 0.2640 - val_loss: 0.3684\n",
      "Epoch 11/50\n",
      "2140/2140 [==============================] - 38s 18ms/step - loss: 0.2374 - val_loss: 0.3558\n",
      "Epoch 12/50\n",
      "2140/2140 [==============================] - 36s 17ms/step - loss: 0.2152 - val_loss: 0.3805\n",
      "Epoch 13/50\n",
      "2140/2140 [==============================] - 38s 18ms/step - loss: 0.2025 - val_loss: 0.3482\n",
      "Epoch 14/50\n",
      "2140/2140 [==============================] - 35s 16ms/step - loss: 0.1890 - val_loss: 0.3378\n",
      "Epoch 15/50\n",
      "2140/2140 [==============================] - 37s 17ms/step - loss: 0.1726 - val_loss: 0.3168\n",
      "Epoch 16/50\n",
      "2140/2140 [==============================] - 37s 17ms/step - loss: 0.1679 - val_loss: 0.3206\n",
      "Epoch 17/50\n",
      "2140/2140 [==============================] - 38s 18ms/step - loss: 0.1543 - val_loss: 0.3294\n",
      "Epoch 18/50\n",
      "2140/2140 [==============================] - 37s 17ms/step - loss: 0.1454 - val_loss: 0.3113\n",
      "594/594 [==============================] - 3s 5ms/step - loss: 0.2864\n"
     ]
    }
   ],
   "source": [
    "start_time = time.time()\n",
    "\n",
    "history_gru_stack = model.fit(\n",
    "    x_train,\n",
    "    y_train,\n",
    "    validation_split=.1,\n",
    "    batch_size=32,\n",
    "    epochs=50,\n",
    "    callbacks=[earlyStop],\n",
    "    verbose=1\n",
    ")\n",
    "\n",
    "gru_stack_time = time.time() - start_time\n",
    "gru_stack_eval = model.evaluate(x_test, y_test)"
   ]
  },
  {
   "cell_type": "code",
   "execution_count": 112,
   "metadata": {},
   "outputs": [
    {
     "data": {
      "image/png": "[encoded data removed]",
      "text/plain": [
       "<Figure size 640x480 with 1 Axes>"
      ]
     },
     "metadata": {},
     "output_type": "display_data"
    }
   ],
   "source": [
    "history = history_gru_stack\n",
    "\n",
    "# summarize history for loss\n",
    "plt.plot(history.history['loss'])\n",
    "plt.plot(history.history['val_loss'])\n",
    "plt.title('Stacked GRU Layer Network Loss')\n",
    "plt.ylabel('Loss')\n",
    "plt.xlabel('Epoch')\n",
    "plt.xticks(range(len(history.history[\"loss\"])))\n",
    "plt.ylim([0,1.4])\n",
    "plt.legend(['Training', 'Validation'])\n",
    "plt.show()"
   ]
  },
  {
   "cell_type": "code",
   "execution_count": 15,
   "metadata": {},
   "outputs": [],
   "source": [
    "from keras.utils.vis_utils import plot_model\n",
    "import pydot"
   ]
  },
  {
   "cell_type": "code",
   "execution_count": 22,
   "metadata": {},
   "outputs": [
    {
     "data": {
      "image/png": "[encoded data removed]",
      "text/plain": [
       "<IPython.core.display.Image object>"
      ]
     },
     "execution_count": 22,
     "metadata": {},
     "output_type": "execute_result"
    }
   ],
   "source": [
    "plot_model(model, to_file='model_plot.png', show_shapes=True, show_layer_names=True)"
   ]
  },
  {
   "cell_type": "code",
   "execution_count": 14,
   "metadata": {},
   "outputs": [
    {
     "data": {
      "text/plain": [
       "(76066, 19, 12)"
      ]
     },
     "execution_count": 14,
     "metadata": {},
     "output_type": "execute_result"
    }
   ],
   "source": [
    "x_train.shape"
   ]
  },
  {
   "cell_type": "code",
   "execution_count": 15,
   "metadata": {},
   "outputs": [
    {
     "data": {
      "text/html": [
       "<div>\n",
       "<style scoped>\n",
       "    .dataframe tbody tr th:only-of-type {\n",
       "        vertical-align: middle;\n",
       "    }\n",
       "\n",
       "    .dataframe tbody tr th {\n",
       "        vertical-align: top;\n",
       "    }\n",
       "\n",
       "    .dataframe thead th {\n",
       "        text-align: right;\n",
       "    }\n",
       "</style>\n",
       "<table border=\"1\" class=\"dataframe\">\n",
       "  <thead>\n",
       "    <tr style=\"text-align: right;\">\n",
       "      <th></th>\n",
       "      <th>Unnamed: 0</th>\n",
       "      <th>Name</th>\n",
       "      <th>Braid Notation</th>\n",
       "      <th>Volume</th>\n",
       "      <th>Braid List</th>\n",
       "      <th>Equivalent Braids</th>\n",
       "      <th>Jones</th>\n",
       "      <th>Jones Normalized</th>\n",
       "    </tr>\n",
       "  </thead>\n",
       "  <tbody>\n",
       "    <tr>\n",
       "      <th>0</th>\n",
       "      <td>0</td>\n",
       "      <td>3_1</td>\n",
       "      <td>{1;1;1}</td>\n",
       "      <td>0.000000</td>\n",
       "      <td>[1, 1, 1]</td>\n",
       "      <td>[[-1, 2, 2, 2, 1, -2], [1, 1, 1, 2, 3], [1, -1...</td>\n",
       "      <td>[0, 0, 0, 0, 0, 0, 0, 0, 0, 0, 0, 0, 0, 0, 1, ...</td>\n",
       "      <td>[0.0, 0.0, 0.0, 0.0, 0.0, 0.0, 0.0, 0.0, 0.0, ...</td>\n",
       "    </tr>\n",
       "    <tr>\n",
       "      <th>1</th>\n",
       "      <td>1</td>\n",
       "      <td>4_1</td>\n",
       "      <td>{1;-2;1;-2}</td>\n",
       "      <td>2.029883</td>\n",
       "      <td>[1, -2, 1, -2]</td>\n",
       "      <td>[[-1, -2, -3, -4, 5, 4, 3, 2, -4, 1, -3, -5, -...</td>\n",
       "      <td>[0, 0, 0, 0, 0, 0, 0, 0, 0, 0, 0, 1, -1, 1, -1...</td>\n",
       "      <td>[0.0, 0.0, 0.0, 0.0, 0.0, 0.0, 0.0, 0.0, 0.0, ...</td>\n",
       "    </tr>\n",
       "    <tr>\n",
       "      <th>2</th>\n",
       "      <td>2</td>\n",
       "      <td>5_1</td>\n",
       "      <td>{1;1;1;1;1}</td>\n",
       "      <td>0.000000</td>\n",
       "      <td>[1, 1, 1, 1, 1]</td>\n",
       "      <td>[[1, 1, 1, 2, 1, 3, 1], [-1, 2, 2, -3, -2, 3, ...</td>\n",
       "      <td>[0, 0, 0, 0, 0, 0, 0, 0, 0, 0, 0, 0, 0, 0, 0, ...</td>\n",
       "      <td>[0.0, 0.0, 0.0, 0.0, 0.0, 0.0, 0.0, 0.0, 0.0, ...</td>\n",
       "    </tr>\n",
       "    <tr>\n",
       "      <th>3</th>\n",
       "      <td>3</td>\n",
       "      <td>5_2</td>\n",
       "      <td>{1;1;1;2;-1;2}</td>\n",
       "      <td>2.828122</td>\n",
       "      <td>[1, 1, 1, 2, -1, 2]</td>\n",
       "      <td>[[1, -1, 1, 2, 1, 1, 1, 2, -1, -1], [-1, 2, -3...</td>\n",
       "      <td>[0, 0, 0, 0, 0, 0, 0, 0, 0, 0, 0, 0, 0, 0, 1, ...</td>\n",
       "      <td>[0.0, 0.0, 0.0, 0.0, 0.0, 0.0, 0.0, 0.0, 0.0, ...</td>\n",
       "    </tr>\n",
       "    <tr>\n",
       "      <th>4</th>\n",
       "      <td>4</td>\n",
       "      <td>6_1</td>\n",
       "      <td>{1;1;2;-1;-3;2;-3}</td>\n",
       "      <td>3.163963</td>\n",
       "      <td>[1, 1, 2, -1, -3, 2, -3]</td>\n",
       "      <td>[[-1, 2, -3, -4, -5, -4, -3, 2, 1, -2, 3, 2, 4...</td>\n",
       "      <td>[0, 0, 0, 0, 0, 0, 0, 0, 0, 0, 0, 1, -1, 2, -2...</td>\n",
       "      <td>[0.0, 0.0, 0.0, 0.0, 0.0, 0.0, 0.0, 0.0, 0.0, ...</td>\n",
       "    </tr>\n",
       "    <tr>\n",
       "      <th>...</th>\n",
       "      <td>...</td>\n",
       "      <td>...</td>\n",
       "      <td>...</td>\n",
       "      <td>...</td>\n",
       "      <td>...</td>\n",
       "      <td>...</td>\n",
       "      <td>...</td>\n",
       "      <td>...</td>\n",
       "    </tr>\n",
       "    <tr>\n",
       "      <th>2972</th>\n",
       "      <td>2972</td>\n",
       "      <td>12n_884</td>\n",
       "      <td>{1;-2;1;2;3;-2;3;-4;2;-4;-3;2;-3;4}</td>\n",
       "      <td>15.585360</td>\n",
       "      <td>[1, -2, 1, 2, 3, -2, 3, -4, 2, -4, -3, 2, -3, 4]</td>\n",
       "      <td>[[1, -1, -2, 1, -3, 2, -3, 2, -4, -2, -4, 2, 3...</td>\n",
       "      <td>[0, 0, 0, 0, 0, 0, 0, 0, 0, 0, -1, 4, -7, 11, ...</td>\n",
       "      <td>[0.0, 0.0, 0.0, 0.0, 0.0, 0.0, 0.0, 0.0, 0.0, ...</td>\n",
       "    </tr>\n",
       "    <tr>\n",
       "      <th>2973</th>\n",
       "      <td>2973</td>\n",
       "      <td>12n_885</td>\n",
       "      <td>{-1;2;-3;4;-1;3;-2;-3;2;4;-3;2;-3;4}</td>\n",
       "      <td>18.918055</td>\n",
       "      <td>[-1, 2, -3, 4, -1, 3, -2, -3, 2, 4, -3, 2, -3, 4]</td>\n",
       "      <td>[[-1, 2, -1, -3, 2, -3, 4, -3, -2, -2, 2, 3, 3...</td>\n",
       "      <td>[0, 0, 0, 0, 0, 0, 0, 0, 0, 2, -7, 14, -20, 24...</td>\n",
       "      <td>[0.0, 0.0, 0.0, 0.0, 0.0, 0.0, 0.0, 0.0, 0.0, ...</td>\n",
       "    </tr>\n",
       "    <tr>\n",
       "      <th>2974</th>\n",
       "      <td>2974</td>\n",
       "      <td>12n_886</td>\n",
       "      <td>{1;-2;1;2;3;-2;3;4;-2;4;3;-2;3;-4}</td>\n",
       "      <td>18.940373</td>\n",
       "      <td>[1, -2, 1, 2, 3, -2, 3, 4, -2, 4, 3, -2, 3, -4]</td>\n",
       "      <td>[[-1, -2, 1, -3, 4, -5, 4, 3, -5, 2, 3, 4, -5,...</td>\n",
       "      <td>[0, 0, 0, 0, 0, 0, 0, 0, 0, 0, 0, -1, 5, -11, ...</td>\n",
       "      <td>[0.0, 0.0, 0.0, 0.0, 0.0, 0.0, 0.0, 0.0, 0.0, ...</td>\n",
       "    </tr>\n",
       "    <tr>\n",
       "      <th>2975</th>\n",
       "      <td>2975</td>\n",
       "      <td>12n_887</td>\n",
       "      <td>{1;-2;1;-2;1;-2;1;1;2;2;2;1}</td>\n",
       "      <td>17.303379</td>\n",
       "      <td>[1, -2, 1, -2, 1, -2, 1, 1, 2, 2, 2, 1]</td>\n",
       "      <td>[[1, 2, 3, 2, 4, 3, 2, -4, 2, 1, 1, -2, 1, -2,...</td>\n",
       "      <td>[0, 0, 0, 0, 0, 0, 0, 0, 0, 0, 0, 0, 0, 0, -1,...</td>\n",
       "      <td>[0.0, 0.0, 0.0, 0.0, 0.0, 0.0, 0.0, 0.0, 0.0, ...</td>\n",
       "    </tr>\n",
       "    <tr>\n",
       "      <th>2976</th>\n",
       "      <td>2976</td>\n",
       "      <td>12n_888</td>\n",
       "      <td>{1;1;1;2;2;2;1;1;1;2;2;2}</td>\n",
       "      <td>13.640752</td>\n",
       "      <td>[1, 1, 1, 2, 2, 2, 1, 1, 1, 2, 2, 2]</td>\n",
       "      <td>[[-1, -2, 1, 3, 4, 4, 4, 3, 3, 3, 2, -3, -2, 4...</td>\n",
       "      <td>[0, 0, 0, 0, 0, 0, 0, 0, 0, 0, 0, 0, 0, 0, 0, ...</td>\n",
       "      <td>[0.0, 0.0, 0.0, 0.0, 0.0, 0.0, 0.0, 0.0, 0.0, ...</td>\n",
       "    </tr>\n",
       "  </tbody>\n",
       "</table>\n",
       "<p>2977 rows × 8 columns</p>\n",
       "</div>"
      ],
      "text/plain": [
       "      Unnamed: 0     Name                        Braid Notation     Volume   \n",
       "0              0      3_1                               {1;1;1}   0.000000  \\\n",
       "1              1      4_1                           {1;-2;1;-2}   2.029883   \n",
       "2              2      5_1                           {1;1;1;1;1}   0.000000   \n",
       "3              3      5_2                        {1;1;1;2;-1;2}   2.828122   \n",
       "4              4      6_1                    {1;1;2;-1;-3;2;-3}   3.163963   \n",
       "...          ...      ...                                   ...        ...   \n",
       "2972        2972  12n_884   {1;-2;1;2;3;-2;3;-4;2;-4;-3;2;-3;4}  15.585360   \n",
       "2973        2973  12n_885  {-1;2;-3;4;-1;3;-2;-3;2;4;-3;2;-3;4}  18.918055   \n",
       "2974        2974  12n_886    {1;-2;1;2;3;-2;3;4;-2;4;3;-2;3;-4}  18.940373   \n",
       "2975        2975  12n_887          {1;-2;1;-2;1;-2;1;1;2;2;2;1}  17.303379   \n",
       "2976        2976  12n_888             {1;1;1;2;2;2;1;1;1;2;2;2}  13.640752   \n",
       "\n",
       "                                             Braid List   \n",
       "0                                             [1, 1, 1]  \\\n",
       "1                                        [1, -2, 1, -2]   \n",
       "2                                       [1, 1, 1, 1, 1]   \n",
       "3                                   [1, 1, 1, 2, -1, 2]   \n",
       "4                              [1, 1, 2, -1, -3, 2, -3]   \n",
       "...                                                 ...   \n",
       "2972   [1, -2, 1, 2, 3, -2, 3, -4, 2, -4, -3, 2, -3, 4]   \n",
       "2973  [-1, 2, -3, 4, -1, 3, -2, -3, 2, 4, -3, 2, -3, 4]   \n",
       "2974    [1, -2, 1, 2, 3, -2, 3, 4, -2, 4, 3, -2, 3, -4]   \n",
       "2975            [1, -2, 1, -2, 1, -2, 1, 1, 2, 2, 2, 1]   \n",
       "2976               [1, 1, 1, 2, 2, 2, 1, 1, 1, 2, 2, 2]   \n",
       "\n",
       "                                      Equivalent Braids   \n",
       "0     [[-1, 2, 2, 2, 1, -2], [1, 1, 1, 2, 3], [1, -1...  \\\n",
       "1     [[-1, -2, -3, -4, 5, 4, 3, 2, -4, 1, -3, -5, -...   \n",
       "2     [[1, 1, 1, 2, 1, 3, 1], [-1, 2, 2, -3, -2, 3, ...   \n",
       "3     [[1, -1, 1, 2, 1, 1, 1, 2, -1, -1], [-1, 2, -3...   \n",
       "4     [[-1, 2, -3, -4, -5, -4, -3, 2, 1, -2, 3, 2, 4...   \n",
       "...                                                 ...   \n",
       "2972  [[1, -1, -2, 1, -3, 2, -3, 2, -4, -2, -4, 2, 3...   \n",
       "2973  [[-1, 2, -1, -3, 2, -3, 4, -3, -2, -2, 2, 3, 3...   \n",
       "2974  [[-1, -2, 1, -3, 4, -5, 4, 3, -5, 2, 3, 4, -5,...   \n",
       "2975  [[1, 2, 3, 2, 4, 3, 2, -4, 2, 1, 1, -2, 1, -2,...   \n",
       "2976  [[-1, -2, 1, 3, 4, 4, 4, 3, 3, 3, 2, -3, -2, 4...   \n",
       "\n",
       "                                                  Jones   \n",
       "0     [0, 0, 0, 0, 0, 0, 0, 0, 0, 0, 0, 0, 0, 0, 1, ...  \\\n",
       "1     [0, 0, 0, 0, 0, 0, 0, 0, 0, 0, 0, 1, -1, 1, -1...   \n",
       "2     [0, 0, 0, 0, 0, 0, 0, 0, 0, 0, 0, 0, 0, 0, 0, ...   \n",
       "3     [0, 0, 0, 0, 0, 0, 0, 0, 0, 0, 0, 0, 0, 0, 1, ...   \n",
       "4     [0, 0, 0, 0, 0, 0, 0, 0, 0, 0, 0, 1, -1, 2, -2...   \n",
       "...                                                 ...   \n",
       "2972  [0, 0, 0, 0, 0, 0, 0, 0, 0, 0, -1, 4, -7, 11, ...   \n",
       "2973  [0, 0, 0, 0, 0, 0, 0, 0, 0, 2, -7, 14, -20, 24...   \n",
       "2974  [0, 0, 0, 0, 0, 0, 0, 0, 0, 0, 0, -1, 5, -11, ...   \n",
       "2975  [0, 0, 0, 0, 0, 0, 0, 0, 0, 0, 0, 0, 0, 0, -1,...   \n",
       "2976  [0, 0, 0, 0, 0, 0, 0, 0, 0, 0, 0, 0, 0, 0, 0, ...   \n",
       "\n",
       "                                       Jones Normalized  \n",
       "0     [0.0, 0.0, 0.0, 0.0, 0.0, 0.0, 0.0, 0.0, 0.0, ...  \n",
       "1     [0.0, 0.0, 0.0, 0.0, 0.0, 0.0, 0.0, 0.0, 0.0, ...  \n",
       "2     [0.0, 0.0, 0.0, 0.0, 0.0, 0.0, 0.0, 0.0, 0.0, ...  \n",
       "3     [0.0, 0.0, 0.0, 0.0, 0.0, 0.0, 0.0, 0.0, 0.0, ...  \n",
       "4     [0.0, 0.0, 0.0, 0.0, 0.0, 0.0, 0.0, 0.0, 0.0, ...  \n",
       "...                                                 ...  \n",
       "2972  [0.0, 0.0, 0.0, 0.0, 0.0, 0.0, 0.0, 0.0, 0.0, ...  \n",
       "2973  [0.0, 0.0, 0.0, 0.0, 0.0, 0.0, 0.0, 0.0, 0.0, ...  \n",
       "2974  [0.0, 0.0, 0.0, 0.0, 0.0, 0.0, 0.0, 0.0, 0.0, ...  \n",
       "2975  [0.0, 0.0, 0.0, 0.0, 0.0, 0.0, 0.0, 0.0, 0.0, ...  \n",
       "2976  [0.0, 0.0, 0.0, 0.0, 0.0, 0.0, 0.0, 0.0, 0.0, ...  \n",
       "\n",
       "[2977 rows x 8 columns]"
      ]
     },
     "execution_count": 15,
     "metadata": {},
     "output_type": "execute_result"
    }
   ],
   "source": [
    "knot_data"
   ]
  },
  {
   "cell_type": "code",
   "execution_count": 16,
   "metadata": {},
   "outputs": [
    {
     "ename": "NameError",
     "evalue": "name 'linear_eval' is not defined",
     "output_type": "error",
     "traceback": [
      "\u001b[0;31m---------------------------------------------------------------------------\u001b[0m",
      "\u001b[0;31mNameError\u001b[0m                                 Traceback (most recent call last)",
      "Cell \u001b[0;32mIn[16], line 1\u001b[0m\n\u001b[0;32m----> 1\u001b[0m linear_eval\n",
      "\u001b[0;31mNameError\u001b[0m: name 'linear_eval' is not defined"
     ]
    }
   ],
   "source": [
    "linear_eval"
   ]
  },
  {
   "cell_type": "code",
   "execution_count": null,
   "metadata": {},
   "outputs": [],
   "source": []
  }
 ],
 "metadata": {
  "kernelspec": {
   "display_name": "keras",
   "language": "python",
   "name": "python3"
  },
  "language_info": {
   "codemirror_mode": {
    "name": "ipython",
    "version": 3
   },
   "file_extension": ".py",
   "mimetype": "text/x-python",
   "name": "python",
   "nbconvert_exporter": "python",
   "pygments_lexer": "ipython3",
   "version": "3.10.8"
  },
  "orig_nbformat": 4
 },
 "nbformat": 4,
 "nbformat_minor": 2
}
